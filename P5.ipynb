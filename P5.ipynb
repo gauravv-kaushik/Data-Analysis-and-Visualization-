{
 "cells": [
  {
   "cell_type": "code",
   "execution_count": null,
   "id": "0b106e75",
   "metadata": {},
   "outputs": [],
   "source": [
    "from matplotlib import pyplot as plt\n",
    "import seaborn\n",
    "import pandas as pd\n",
    "import numpy as np"
   ]
  },
  {
   "cell_type": "code",
   "execution_count": null,
   "id": "6573f265",
   "metadata": {},
   "outputs": [],
   "source": [
    "file1 = pd.read_csv(\"iris.data\",header=None,)\n",
    "file1"
   ]
  },
  {
   "cell_type": "code",
   "execution_count": null,
   "id": "72f180f6",
   "metadata": {},
   "outputs": [],
   "source": [
    "file1.columns=[\"SepalLengthCm\",\"SepalWidthCm\" ,\"PetalLengthCm\",\"PetalWidthCm\",\"Species\"]\n",
    "file1"
   ]
  },
  {
   "cell_type": "code",
   "execution_count": null,
   "id": "f3cd4035",
   "metadata": {},
   "outputs": [],
   "source": [
    "frequency=file1[\"Species\"].value_counts()\n",
    "frequency"
   ]
  },
  {
   "cell_type": "code",
   "execution_count": null,
   "id": "433cfa83",
   "metadata": {},
   "outputs": [],
   "source": [
    "plt.hist(file1[\"Species\"])"
   ]
  },
  {
   "cell_type": "code",
   "execution_count": null,
   "id": "b248e3b3",
   "metadata": {},
   "outputs": [],
   "source": [
    "a=file1[\"PetalWidthCm\"]\n",
    "b=file1[\"SepalWidthCm\"]\n",
    "plt.scatter(a,b)"
   ]
  },
  {
   "cell_type": "code",
   "execution_count": null,
   "id": "088b9093",
   "metadata": {},
   "outputs": [],
   "source": [
    "x=file1[\"PetalLengthCm\"]\n",
    "x.plot.density()"
   ]
  },
  {
   "cell_type": "code",
   "execution_count": null,
   "id": "d002bbb2",
   "metadata": {},
   "outputs": [],
   "source": [
    "seaborn.pairplot(file1)"
   ]
  }
 ],
 "metadata": {
  "kernelspec": {
   "display_name": "Python 3 (ipykernel)",
   "language": "python",
   "name": "python3"
  },
  "language_info": {
   "codemirror_mode": {
    "name": "ipython",
    "version": 3
   },
   "file_extension": ".py",
   "mimetype": "text/x-python",
   "name": "python",
   "nbconvert_exporter": "python",
   "pygments_lexer": "ipython3",
   "version": "3.11.4"
  }
 },
 "nbformat": 4,
 "nbformat_minor": 5
}

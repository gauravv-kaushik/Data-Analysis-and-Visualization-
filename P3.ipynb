{
 "cells": [
  {
   "cell_type": "code",
   "execution_count": null,
   "id": "0ab805f6",
   "metadata": {},
   "outputs": [],
   "source": [
    "import pandas as pd\n",
    "import numpy as np\n",
    "data=np.random.randint(1,100,size=(50,3))\n",
    "df=pd.DataFrame(data,columns=[\"First column\",\"Second column\",\"Third column\"])\n",
    "\n",
    "for i in range(15):\n",
    "    r=np.random.randint(0,50)\n",
    "    c=np.random.randint(0,3)\n",
    "    df.iloc[r,c]=np.nan\n",
    "df"
   ]
  },
  {
   "cell_type": "code",
   "execution_count": null,
   "id": "5e25b152",
   "metadata": {},
   "outputs": [],
   "source": [
    "# part-a\n",
    "df1=df.isnull().sum()\n",
    "df1"
   ]
  },
  {
   "cell_type": "code",
   "execution_count": null,
   "id": "b72696ba",
   "metadata": {},
   "outputs": [],
   "source": [
    "# part-b\n",
    "df.dropna(axis=1,thresh=45)"
   ]
  },
  {
   "cell_type": "code",
   "execution_count": null,
   "id": "011ff9f4",
   "metadata": {},
   "outputs": [],
   "source": [
    "# part-c\n",
    "a=df.sum(axis=1).idxmax()   #delete the row which has max sum\n",
    "df.drop(index=a)"
   ]
  },
  {
   "cell_type": "code",
   "execution_count": null,
   "id": "e021ec34",
   "metadata": {},
   "outputs": [],
   "source": [
    "# part-d\n",
    "df.sort_values('First column')"
   ]
  },
  {
   "cell_type": "code",
   "execution_count": null,
   "id": "e16911c6",
   "metadata": {},
   "outputs": [],
   "source": [
    "# part-e\n",
    "df.drop_duplicates('First column')"
   ]
  },
  {
   "cell_type": "code",
   "execution_count": null,
   "id": "fac7cdf7",
   "metadata": {},
   "outputs": [],
   "source": [
    "# part-f (1)\n",
    "df['First column'].corr(df['Second column'])"
   ]
  },
  {
   "cell_type": "code",
   "execution_count": null,
   "id": "1808bab3",
   "metadata": {},
   "outputs": [],
   "source": [
    "# part-f (2)\n",
    "df['Second column'].cov(df['Third column'])"
   ]
  },
  {
   "cell_type": "code",
   "execution_count": null,
   "id": "0ed5496c",
   "metadata": {},
   "outputs": [],
   "source": [
    "# part-g\n",
    "outlier=pd.Series(data=False,index=df.index)\n",
    "for col in df.columns:   \n",
    "        Q1= df[col].quantile(0.25)\n",
    "        Q3= df[col].quantile(0.75)\n",
    "        IQR=Q3-Q1\n",
    "        lower_bound = Q1-(1.5 * IQR)\n",
    "        upper_bound = Q3+(1.5 * IQR)\n",
    "        outlier |= (df[col] < lower_bound) | (df[col] > upper_bound)\n",
    "df=df[~outlier]\n",
    "print(df)"
   ]
  },
  {
   "cell_type": "code",
   "execution_count": null,
   "id": "9607b4fe",
   "metadata": {},
   "outputs": [],
   "source": [
    "# part-h\n",
    "df['Second column']= pd.cut(df['Second column'],bins=5)\n",
    "df['Second column']"
   ]
  },
  {
   "cell_type": "code",
   "execution_count": null,
   "id": "4f63b4d9",
   "metadata": {},
   "outputs": [],
   "source": []
  }
 ],
 "metadata": {
  "kernelspec": {
   "display_name": "Python 3 (ipykernel)",
   "language": "python",
   "name": "python3"
  },
  "language_info": {
   "codemirror_mode": {
    "name": "ipython",
    "version": 3
   },
   "file_extension": ".py",
   "mimetype": "text/x-python",
   "name": "python",
   "nbconvert_exporter": "python",
   "pygments_lexer": "ipython3",
   "version": "3.11.4"
  }
 },
 "nbformat": 4,
 "nbformat_minor": 5
}

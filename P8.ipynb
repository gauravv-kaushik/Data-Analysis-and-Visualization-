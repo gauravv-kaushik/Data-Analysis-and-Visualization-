{
 "cells": [
  {
   "cell_type": "markdown",
   "id": "579c658b",
   "metadata": {},
   "source": [
    "# PRACTICAL QUES 8"
   ]
  },
  {
   "cell_type": "code",
   "execution_count": null,
   "id": "c5ab0bcd",
   "metadata": {},
   "outputs": [],
   "source": [
    "import pandas as pd\n",
    "import numpy as np\n",
    "import matplotlib.pyplot as plt\n",
    "import seaborn as sns"
   ]
  },
  {
   "cell_type": "code",
   "execution_count": null,
   "id": "e88da5f3",
   "metadata": {},
   "outputs": [],
   "source": [
    "family =pd.read_csv('data10.csv')"
   ]
  },
  {
   "cell_type": "code",
   "execution_count": null,
   "id": "3a0ec6f4",
   "metadata": {},
   "outputs": [],
   "source": [
    "family"
   ]
  },
  {
   "cell_type": "code",
   "execution_count": null,
   "id": "ff77663b",
   "metadata": {},
   "outputs": [],
   "source": [
    "family.info()"
   ]
  },
  {
   "cell_type": "markdown",
   "id": "6fdb1e82",
   "metadata": {},
   "source": [
    "## PART A"
   ]
  },
  {
   "cell_type": "code",
   "execution_count": null,
   "id": "3ff7389a",
   "metadata": {},
   "outputs": [],
   "source": [
    "familywise = family.groupby('Name')\n",
    "familywise.describe()"
   ]
  },
  {
   "cell_type": "code",
   "execution_count": null,
   "id": "77a9a0e6",
   "metadata": {},
   "outputs": [],
   "source": [
    "familywise.sum(\"MonthlyIncome\")"
   ]
  },
  {
   "cell_type": "markdown",
   "id": "96f8e699",
   "metadata": {},
   "source": [
    "## PART B"
   ]
  },
  {
   "cell_type": "code",
   "execution_count": null,
   "id": "08cc0f42",
   "metadata": {},
   "outputs": [],
   "source": [
    "familywise.max()"
   ]
  },
  {
   "cell_type": "markdown",
   "id": "73b209a2",
   "metadata": {},
   "source": [
    "## PART C"
   ]
  },
  {
   "cell_type": "code",
   "execution_count": null,
   "id": "bd0d95f0",
   "metadata": {},
   "outputs": [],
   "source": [
    "family[family['MonthlyIncome']>60000]"
   ]
  },
  {
   "cell_type": "markdown",
   "id": "9d1c6e94",
   "metadata": {},
   "source": [
    "#"
   ]
  },
  {
   "cell_type": "code",
   "execution_count": null,
   "id": "9c4658e2",
   "metadata": {},
   "outputs": [],
   "source": [
    "family[family['Gender']=='Female'].groupby('Name').mean(\"MonthlyIncome\").loc['Shah']"
   ]
  },
  {
   "cell_type": "code",
   "execution_count": 2,
   "id": "2cb9e800",
   "metadata": {},
   "outputs": [],
   "source": []
  },
  {
   "cell_type": "code",
   "execution_count": null,
   "id": "4f4f48d5",
   "metadata": {},
   "outputs": [],
   "source": []
  }
 ],
 "metadata": {
  "kernelspec": {
   "display_name": "Python 3 (ipykernel)",
   "language": "python",
   "name": "python3"
  },
  "language_info": {
   "codemirror_mode": {
    "name": "ipython",
    "version": 3
   },
   "file_extension": ".py",
   "mimetype": "text/x-python",
   "name": "python",
   "nbconvert_exporter": "python",
   "pygments_lexer": "ipython3",
   "version": "3.11.4"
  }
 },
 "nbformat": 4,
 "nbformat_minor": 5
}

{
 "cells": [
  {
   "cell_type": "code",
   "execution_count": null,
   "id": "c00e47da",
   "metadata": {},
   "outputs": [],
   "source": [
    "import pandas as pd\n",
    "df=pd.read_excel(\"day1.xlsx\")\n",
    "df1=pd.read_excel(\"day2.xlsx\")"
   ]
  },
  {
   "cell_type": "code",
   "execution_count": null,
   "id": "e4f14ced",
   "metadata": {},
   "outputs": [],
   "source": [
    "df"
   ]
  },
  {
   "cell_type": "code",
   "execution_count": null,
   "id": "ffd37153",
   "metadata": {},
   "outputs": [],
   "source": [
    "df1"
   ]
  },
  {
   "cell_type": "code",
   "execution_count": null,
   "id": "c0865af1",
   "metadata": {},
   "outputs": [],
   "source": [
    "df.parse_dates = (\"Time of joining\")\n",
    "df"
   ]
  },
  {
   "cell_type": "code",
   "execution_count": null,
   "id": "5450ca1c",
   "metadata": {},
   "outputs": [],
   "source": [
    "df1.parse_dates=(\"Time of joining\")\n",
    "df1"
   ]
  },
  {
   "cell_type": "code",
   "execution_count": null,
   "id": "83717158",
   "metadata": {},
   "outputs": [],
   "source": [
    "                     #part -a \n",
    "df.merge(df1,how=\"inner\",on=\"Name\")"
   ]
  },
  {
   "cell_type": "code",
   "execution_count": null,
   "id": "b89d8a92",
   "metadata": {},
   "outputs": [],
   "source": [
    "                  #part - b\n",
    "df.merge(df1,how=\"outer\")"
   ]
  },
  {
   "cell_type": "code",
   "execution_count": null,
   "id": "aaf0695c",
   "metadata": {},
   "outputs": [],
   "source": [
    "                  #part -c\n",
    "a=pd.concat([df,df1],ignore_index=True)\n",
    "a"
   ]
  },
  {
   "cell_type": "code",
   "execution_count": null,
   "id": "bd228d35",
   "metadata": {},
   "outputs": [],
   "source": [
    "len(a) "
   ]
  },
  {
   "cell_type": "code",
   "execution_count": null,
   "id": "763b9feb",
   "metadata": {},
   "outputs": [],
   "source": [
    "                       #part -d\n",
    "b=df.merge(df1,how=\"outer\")\n",
    "b"
   ]
  },
  {
   "cell_type": "code",
   "execution_count": null,
   "id": "e5dbec51",
   "metadata": {},
   "outputs": [],
   "source": [
    "c=b.set_index(keys=[\"Name\",\"Duration\"])\n",
    "c"
   ]
  },
  {
   "cell_type": "code",
   "execution_count": null,
   "id": "5f56aa40",
   "metadata": {},
   "outputs": [],
   "source": [
    "c.describe()"
   ]
  },
  {
   "cell_type": "code",
   "execution_count": null,
   "id": "9e438fdd",
   "metadata": {},
   "outputs": [],
   "source": []
  }
 ],
 "metadata": {
  "kernelspec": {
   "display_name": "Python 3 (ipykernel)",
   "language": "python",
   "name": "python3"
  },
  "language_info": {
   "codemirror_mode": {
    "name": "ipython",
    "version": 3
   },
   "file_extension": ".py",
   "mimetype": "text/x-python",
   "name": "python",
   "nbconvert_exporter": "python",
   "pygments_lexer": "ipython3",
   "version": "3.11.4"
  }
 },
 "nbformat": 4,
 "nbformat_minor": 5
}

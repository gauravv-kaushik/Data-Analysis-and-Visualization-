{
 "cells": [
  {
   "cell_type": "code",
   "execution_count": null,
   "id": "afc150d1",
   "metadata": {},
   "outputs": [],
   "source": [
    "import pandas as pd\n",
    "import numpy as np"
   ]
  },
  {
   "cell_type": "code",
   "execution_count": null,
   "id": "2e2eca4a",
   "metadata": {},
   "outputs": [],
   "source": [
    "df=pd.read_csv(\"Data_Q7.csv\")\n",
    "df"
   ]
  },
  {
   "cell_type": "code",
   "execution_count": null,
   "id": "a7d59b12",
   "metadata": {},
   "outputs": [],
   "source": [
    "print(df['Gender'].unique())\n",
    "print(df['Pass_Division'].unique())"
   ]
  },
  {
   "cell_type": "code",
   "execution_count": null,
   "id": "c7ba4531",
   "metadata": {},
   "outputs": [],
   "source": [
    "# part-a\n",
    "hot_encode=pd.get_dummies(df,columns=['Gender','Pass_Division'])\n",
    "print(hot_encode)"
   ]
  },
  {
   "cell_type": "code",
   "execution_count": null,
   "id": "c9c60980",
   "metadata": {},
   "outputs": [],
   "source": [
    "# part-b\n",
    "sort=['January','February','March','April','May','June','July','August','September','October','November','December']\n",
    "df['Birth_Month']=pd.Categorical(df['Birth_Month'],categories=sort,ordered=True)\n",
    "df.sort_values('Birth_Month')"
   ]
  },
  {
   "cell_type": "code",
   "execution_count": null,
   "id": "488d6382",
   "metadata": {},
   "outputs": [],
   "source": []
  },
  {
   "cell_type": "code",
   "execution_count": null,
   "id": "a1f929cc",
   "metadata": {},
   "outputs": [],
   "source": []
  }
 ],
 "metadata": {
  "kernelspec": {
   "display_name": "Python 3 (ipykernel)",
   "language": "python",
   "name": "python3"
  },
  "language_info": {
   "codemirror_mode": {
    "name": "ipython",
    "version": 3
   },
   "file_extension": ".py",
   "mimetype": "text/x-python",
   "name": "python",
   "nbconvert_exporter": "python",
   "pygments_lexer": "ipython3",
   "version": "3.11.4"
  }
 },
 "nbformat": 4,
 "nbformat_minor": 5
}
